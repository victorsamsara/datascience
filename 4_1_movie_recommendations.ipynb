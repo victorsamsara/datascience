{
  "nbformat": 4,
  "nbformat_minor": 0,
  "metadata": {
    "kernelspec": {
      "name": "python36",
      "display_name": "Python 3.6",
      "language": "python"
    },
    "language_info": {
      "mimetype": "text/x-python",
      "nbconvert_exporter": "python",
      "name": "python",
      "pygments_lexer": "ipython3",
      "version": "3.6.6",
      "file_extension": ".py",
      "codemirror_mode": {
        "version": 3,
        "name": "ipython"
      }
    },
    "colab": {
      "name": "4_1_movie_recommendations.ipynb",
      "provenance": [],
      "collapsed_sections": [],
      "include_colab_link": true
    }
  },
  "cells": [
    {
      "cell_type": "markdown",
      "metadata": {
        "id": "view-in-github",
        "colab_type": "text"
      },
      "source": [
        "<a href=\"https://colab.research.google.com/github/victorsamsara/datascience/blob/master/4_1_movie_recommendations.ipynb\" target=\"_parent\"><img src=\"https://colab.research.google.com/assets/colab-badge.svg\" alt=\"Open In Colab\"/></a>"
      ]
    },
    {
      "cell_type": "markdown",
      "metadata": {
        "collapsed": true,
        "id": "EC-R5sK0_8Kq"
      },
      "source": [
        "# Case Study 4.1 - Movies"
      ]
    },
    {
      "cell_type": "markdown",
      "metadata": {
        "id": "m9od51rk_8Ks"
      },
      "source": [
        "<h1 style=\"color:red;\">Note: If you close this notebook at any time, you will have to run all cells again upon re-opening it.</h1>\n",
        "\n",
        "<h1 style=\"color:red;\">Note: You may get different numerical results running the notebook different times. This is to be expected, you can just report whatever results you get.</h1>"
      ]
    },
    {
      "cell_type": "markdown",
      "metadata": {
        "id": "7OggEYfa_8Ks"
      },
      "source": [
        "# ADVANCED PYTHON"
      ]
    },
    {
      "cell_type": "markdown",
      "metadata": {
        "id": "jw5-EZpC_8Ku"
      },
      "source": [
        "As this is an advanced version, we don't include a lot of code here. If you get stuck on a particular part, feel free to also use the beginner version in `beginnner_python.ipynb` to help you out."
      ]
    },
    {
      "cell_type": "markdown",
      "metadata": {
        "id": "o2TWCWGY_8Kv"
      },
      "source": [
        "# Identification Information\n",
        "\n",
        "You can find your MITxPro username on this [page](https://courses.xpro.mit.edu/courses/course-v1:xPRO+DSx+R14/progress) and copying the username in quotations after it says \"Student\". For example, Kevin's username is \"kevin-lyons\".\n",
        "\n",
        "**Please use the correct username and the e-mail address right next to it as it makes it much easier for course staff to identify your notebook.**\n",
        "\n",
        "![image.png](data:image/png;base64,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)"
      ]
    },
    {
      "cell_type": "markdown",
      "metadata": {
        "id": "giMlIm1V_8Kw"
      },
      "source": [
        "**YOUR NAME**              = Victor Nicolas Gonzalez Alcantara\n",
        "\n",
        "**YOUR MITX PRO USERNAME** = victor-nicolas-gonzalez-alcant\n",
        "\n",
        "**YOUR MITX PRO E-MAIL**   = victor@samsara.com"
      ]
    },
    {
      "cell_type": "markdown",
      "metadata": {
        "id": "V785WY2q_8K1"
      },
      "source": [
        "# Setup"
      ]
    },
    {
      "cell_type": "markdown",
      "metadata": {
        "id": "xl2tjEM0_8K2"
      },
      "source": [
        "Run these cells to install all the packages you need to complete the remainder of the case study. This may take a few minutes, so please be patient."
      ]
    },
    {
      "cell_type": "code",
      "metadata": {
        "trusted": true,
        "id": "NoB07Ypd_8K2",
        "colab": {
          "base_uri": "https://localhost:8080/",
          "height": 136
        },
        "outputId": "52b208ee-ae6b-4b1a-f4aa-c372dac652e6"
      },
      "source": [
        "!pip install --upgrade pip\n",
        "!pip install surprise==0.1"
      ],
      "execution_count": null,
      "outputs": [
        {
          "output_type": "stream",
          "text": [
            "Requirement already up-to-date: pip in /usr/local/lib/python3.6/dist-packages (20.2.4)\n",
            "Requirement already satisfied: surprise==0.1 in /usr/local/lib/python3.6/dist-packages (0.1)\n",
            "Requirement already satisfied: scikit-surprise in /usr/local/lib/python3.6/dist-packages (from surprise==0.1) (1.1.1)\n",
            "Requirement already satisfied: joblib>=0.11 in /usr/local/lib/python3.6/dist-packages (from scikit-surprise->surprise==0.1) (0.16.0)\n",
            "Requirement already satisfied: six>=1.10.0 in /usr/local/lib/python3.6/dist-packages (from scikit-surprise->surprise==0.1) (1.15.0)\n",
            "Requirement already satisfied: numpy>=1.11.2 in /usr/local/lib/python3.6/dist-packages (from scikit-surprise->surprise==0.1) (1.18.5)\n",
            "Requirement already satisfied: scipy>=1.0.0 in /usr/local/lib/python3.6/dist-packages (from scikit-surprise->surprise==0.1) (1.4.1)\n"
          ],
          "name": "stdout"
        }
      ]
    },
    {
      "cell_type": "markdown",
      "metadata": {
        "id": "f0cO7WFE_8K7"
      },
      "source": [
        "# Import"
      ]
    },
    {
      "cell_type": "code",
      "metadata": {
        "trusted": true,
        "id": "paCQeNma_8K7",
        "colab": {
          "base_uri": "https://localhost:8080/",
          "height": 34
        },
        "outputId": "2904b8b3-5024-4604-b83f-d17994531c7a"
      },
      "source": [
        "import pandas as pd\n",
        "import matplotlib\n",
        "from surprise import Dataset, SVD, NormalPredictor, BaselineOnly, KNNBasic, NMF\n",
        "from surprise.model_selection import cross_validate, KFold\n",
        "print('import successful')"
      ],
      "execution_count": null,
      "outputs": [
        {
          "output_type": "stream",
          "text": [
            "import successful\n"
          ],
          "name": "stdout"
        }
      ]
    },
    {
      "cell_type": "markdown",
      "metadata": {
        "id": "jwp7Dnaj_8LA"
      },
      "source": [
        "# Data"
      ]
    },
    {
      "cell_type": "markdown",
      "metadata": {
        "id": "4AAY0NYc_8LA"
      },
      "source": [
        "Use the [`**Dataset.load_builtin**`](http://surprise.readthedocs.io/en/stable/dataset.html#surprise.dataset.Dataset.load_builtin) function to load the data."
      ]
    },
    {
      "cell_type": "code",
      "metadata": {
        "trusted": true,
        "id": "U12SnYHA_8LB",
        "colab": {
          "base_uri": "https://localhost:8080/",
          "height": 51
        },
        "outputId": "db1816fa-ba6a-4944-c144-4a0e77af975b"
      },
      "source": [
        "movieLensData = Dataset.load_builtin('ml-100k')\n",
        "print('\\n Upload Complete')"
      ],
      "execution_count": null,
      "outputs": [
        {
          "output_type": "stream",
          "text": [
            "\n",
            " Upload Complete\n"
          ],
          "name": "stdout"
        }
      ]
    },
    {
      "cell_type": "markdown",
      "metadata": {
        "id": "21KipMen_8LE"
      },
      "source": [
        "We also want to get a sense of what the data looks like. Please create a histogram of all the ratings we have in the dataset."
      ]
    },
    {
      "cell_type": "code",
      "metadata": {
        "trusted": true,
        "id": "QauFbMB__8LF",
        "colab": {
          "base_uri": "https://localhost:8080/",
          "height": 330
        },
        "outputId": "79c890e3-077c-4480-f216-09982b148996"
      },
      "source": [
        "\n",
        "ratingsFile = movieLensData.ratings_file\n",
        "\n",
        "\"\"\"\n",
        "\n",
        "u.data     -- The full u data set, 100000 ratings by 943 users on 1682 items.\n",
        "              Each user has rated at least 20 movies.  Users and items are\n",
        "              numbered consecutively from 1.  The data is randomly\n",
        "              ordered. This is a tab separated list of \n",
        "\t         user id | item id | rating | timestamp. \n",
        "              The time stamps are unix seconds since 1/1/1970 UTC   \n",
        "\"\"\"\n",
        "\n",
        "columns = ['user id','item id','rating','timestamp']\n",
        "\n",
        "data = pd.read_table(ratingsFile,names=columns)\n",
        "\n",
        "ratings = data.rating\n",
        "\n",
        "#count ratings -> 100K\n",
        "print(len(ratings))\n",
        "\n",
        "#plot histogram\n",
        "table = ratings.value_counts()\n",
        "table.sort_index().plot.bar()\n",
        "\n",
        "\n",
        "#compute mean, median, std\n",
        "print('mean = ' + str(ratings.mean()))\n",
        "print('median = ' + str(ratings.median()))\n",
        "print('std = ' + str(ratings.std()))\n",
        "\n",
        "\n",
        "\n",
        "\n",
        "\n"
      ],
      "execution_count": null,
      "outputs": [
        {
          "output_type": "stream",
          "text": [
            "100000\n",
            "mean = 3.52986\n",
            "median = 4.0\n",
            "std = 1.125673599144129\n"
          ],
          "name": "stdout"
        },
        {
          "output_type": "display_data",
          "data": {
            "image/png": "[encoded data removed]",
            "text/plain": [
              "<Figure size 432x288 with 1 Axes>"
            ]
          },
          "metadata": {
            "tags": [],
            "needs_background": "light"
          }
        }
      ]
    },
    {
      "cell_type": "markdown",
      "metadata": {
        "id": "Q8yZ5cs3_8LI"
      },
      "source": [
        "<h1 style=\"color:red;\">QUESTION 1: DATA ANALYSIS</h1>"
      ]
    },
    {
      "cell_type": "markdown",
      "metadata": {
        "id": "IvogoNYW_8LJ"
      },
      "source": [
        "**Describe the dataset. How many ratings are in the dataset? How would you describe the distribution of ratings? Is there anything else we should observe? Make sure the histogram is visible in the notebook.**"
      ]
    },
    {
      "cell_type": "markdown",
      "metadata": {
        "id": "kT-d6pE__8LJ"
      },
      "source": [
        "There are 100,000 ratings in the dataset. At first glance, the distribution of ratings looks very similar to a discrete beta distribution. The majority of the ratings are 4, 3 and 5 respectively. A couple of extra observations, Mean is 3.53, Median is 4 and Std is 1.26. "
      ]
    },
    {
      "cell_type": "markdown",
      "metadata": {
        "id": "_v9zsN5V_8LK"
      },
      "source": [
        "# Model 1: Random"
      ]
    },
    {
      "cell_type": "code",
      "metadata": {
        "trusted": true,
        "id": "ZX6VUpZD_8LL"
      },
      "source": [
        "# Create model using NormalPredictor() class\n",
        "modelRandom = NormalPredictor()"
      ],
      "execution_count": null,
      "outputs": []
    },
    {
      "cell_type": "code",
      "metadata": {
        "trusted": true,
        "id": "mcXMbvPG_8LO",
        "colab": {
          "base_uri": "https://localhost:8080/",
          "height": 119
        },
        "outputId": "11a9393b-a1d2-4cb6-f766-98ae2d2c7ab3"
      },
      "source": [
        "# Train on data using cross-validation with k=5 folds, measuring the RMSE\n",
        "# See the cross_validate function that we have imported above\n",
        "# http://surprise.readthedocs.io/en/stable/model_selection.html#surprise.model_selection.validation.cross_validate\n",
        "\n",
        "\"\"\"\n",
        "\n",
        "Run a cross validation procedure for a given algorithm, reporting accuracy measures and computation times.\n",
        "\n",
        "See an example in the User Guide.\n",
        "\n",
        "Parameters:\t\n",
        "algo (AlgoBase) – The algorithm to evaluate.\n",
        "data (Dataset) – The dataset on which to evaluate the algorithm.\n",
        "measures (list of string) – The performance measures to compute. Allowed names are function names as defined in the accuracy module. Default is ['rmse', 'mae'].\n",
        "cv (cross-validation iterator, int or None) – Determines how the data parameter will be split (i.e. how trainsets and testsets will be defined). If an int is passed, KFold is used with the appropriate n_splits parameter. If None, KFold is used with n_splits=5.\n",
        "return_train_measures (bool) – Whether to compute performance measures on the trainsets. Default is False.\n",
        "n_jobs (int) –\n",
        "The maximum number of folds evaluated in parallel.\n",
        "\n",
        "If -1, all CPUs are used.\n",
        "If 1 is given, no parallel computing code is used at all, which is useful for debugging.\n",
        "For n_jobs below -1, (n_cpus + n_jobs + 1) are used. For example, with n_jobs = -2 all CPUs but one are used.\n",
        "Default is 1.\n",
        "\n",
        "pre_dispatch (int or string) –\n",
        "Controls the number of jobs that get dispatched during parallel execution. Reducing this number can be useful to avoid an explosion of memory consumption when more jobs get dispatched than CPUs can process. This parameter can be:\n",
        "\n",
        "None, in which case all the jobs are immediately created and spawned. Use this for lightweight and fast-running jobs, to avoid delays due to on-demand spawning of the jobs.\n",
        "An int, giving the exact number of total jobs that are spawned.\n",
        "A string, giving an expression as a function of n_jobs, as in '2*n_jobs'.\n",
        "Default is '2*n_jobs'.\n",
        "\n",
        "verbose (int) – If True accuracy measures for each split are printed, as well as train and test times. Averages and standard deviations over all splits are also reported. Default is False: nothing is printed.\n",
        "\n",
        "\"\"\"\n",
        "crossValidationRandom = cross_validate(modelRandom,movieLensData,cv=5,measures=['RMSE'], verbose=True)"
      ],
      "execution_count": null,
      "outputs": [
        {
          "output_type": "stream",
          "text": [
            "Evaluating RMSE of algorithm NormalPredictor on 5 split(s).\n",
            "\n",
            "                  Fold 1  Fold 2  Fold 3  Fold 4  Fold 5  Mean    Std     \n",
            "RMSE (testset)    1.5318  1.5222  1.5160  1.5067  1.5205  1.5195  0.0082  \n",
            "Fit time          0.14    0.16    0.17    0.16    0.17    0.16    0.01    \n",
            "Test time         0.26    0.14    0.24    0.14    0.23    0.20    0.05    \n"
          ],
          "name": "stdout"
        }
      ]
    },
    {
      "cell_type": "markdown",
      "metadata": {
        "id": "uEM7n3W1_8LS"
      },
      "source": [
        "# Model 2: User-Based Collaborative Filtering"
      ]
    },
    {
      "cell_type": "code",
      "metadata": {
        "trusted": true,
        "id": "jHiKBlae_8LT"
      },
      "source": [
        "# Create model using KNNBasic() class\n",
        "# See the sim_options parameter to determine the user/item similarity calculation of the model\n",
        "# http://surprise.readthedocs.io/en/stable/prediction_algorithms.html#similarity-measures-configuration\n",
        "\n",
        "\"\"\"\n",
        " Many algorithms use a similarity measure to estimate a rating. The way they can be configured is done in a similar fashion as for baseline ratings: you just need to pass a sim_options argument at the creation of an algorithm. This argument is a dictionary with the following (all optional) keys:\n",
        "\n",
        "'name': The name of the similarity to use, as defined in the similarities module. Default is 'MSD'.\n",
        "'user_based': Whether similarities will be computed between users or between items. This has a huge impact on the performance of a prediction algorithm. Default is True.\n",
        "'min_support': The minimum number of common items (when 'user_based' is 'True') or minimum number of common users (when 'user_based' is 'False') for the similarity not to be zero. Simply put, if |𝐼𝑢𝑣|<min_support then sim(𝑢,𝑣)=0. The same goes for items.\n",
        "'shrinkage': Shrinkage parameter to apply (only relevant for pearson_baseline similarity). Default is 100.\n",
        "\n",
        "\"\"\"\n",
        "modelUser = KNNBasic()"
      ],
      "execution_count": null,
      "outputs": []
    },
    {
      "cell_type": "code",
      "metadata": {
        "trusted": true,
        "id": "rotSrEVw_8LZ",
        "colab": {
          "base_uri": "https://localhost:8080/",
          "height": 289
        },
        "outputId": "9b64bd12-0222-4558-eac5-fdee02ce9d00"
      },
      "source": [
        "# Train using same cross validation code as above\n",
        "\n",
        "crossValidationUser = cross_validate(modelUser,movieLensData,cv=5,measures=['RMSE'], verbose=True)"
      ],
      "execution_count": null,
      "outputs": [
        {
          "output_type": "stream",
          "text": [
            "Computing the msd similarity matrix...\n",
            "Done computing similarity matrix.\n",
            "Computing the msd similarity matrix...\n",
            "Done computing similarity matrix.\n",
            "Computing the msd similarity matrix...\n",
            "Done computing similarity matrix.\n",
            "Computing the msd similarity matrix...\n",
            "Done computing similarity matrix.\n",
            "Computing the msd similarity matrix...\n",
            "Done computing similarity matrix.\n",
            "Evaluating RMSE of algorithm KNNBasic on 5 split(s).\n",
            "\n",
            "                  Fold 1  Fold 2  Fold 3  Fold 4  Fold 5  Mean    Std     \n",
            "RMSE (testset)    0.9736  0.9746  0.9935  0.9851  0.9700  0.9794  0.0087  \n",
            "Fit time          0.42    0.43    0.42    0.40    0.43    0.42    0.01    \n",
            "Test time         3.75    3.82    3.81    3.82    3.79    3.80    0.02    \n"
          ],
          "name": "stdout"
        }
      ]
    },
    {
      "cell_type": "markdown",
      "metadata": {
        "id": "L1qN1YL4_8Lc"
      },
      "source": [
        "# Model 3: Item-Based Collaborative Filtering"
      ]
    },
    {
      "cell_type": "code",
      "metadata": {
        "trusted": true,
        "id": "3ASfhLKF_8Lc"
      },
      "source": [
        "# Create model using KNNBasic() class\n",
        "# Make sure you change the sim_options parameter from above\n",
        "modelItem = KNNBasic(sim_options={'user_based':False})"
      ],
      "execution_count": null,
      "outputs": []
    },
    {
      "cell_type": "code",
      "metadata": {
        "trusted": true,
        "id": "PgY7SPUj_8Lh",
        "colab": {
          "base_uri": "https://localhost:8080/",
          "height": 289
        },
        "outputId": "4bba0539-f645-427b-c906-a8ba1f861fc7"
      },
      "source": [
        "# Train using same cross validation code as above\n",
        "crossValidationItem = cross_validate(modelItem,movieLensData,cv=5,measures=['RMSE'], verbose=True)"
      ],
      "execution_count": null,
      "outputs": [
        {
          "output_type": "stream",
          "text": [
            "Computing the msd similarity matrix...\n",
            "Done computing similarity matrix.\n",
            "Computing the msd similarity matrix...\n",
            "Done computing similarity matrix.\n",
            "Computing the msd similarity matrix...\n",
            "Done computing similarity matrix.\n",
            "Computing the msd similarity matrix...\n",
            "Done computing similarity matrix.\n",
            "Computing the msd similarity matrix...\n",
            "Done computing similarity matrix.\n",
            "Evaluating RMSE of algorithm KNNBasic on 5 split(s).\n",
            "\n",
            "                  Fold 1  Fold 2  Fold 3  Fold 4  Fold 5  Mean    Std     \n",
            "RMSE (testset)    0.9727  0.9798  0.9731  0.9722  0.9711  0.9738  0.0031  \n",
            "Fit time          0.63    0.66    0.68    0.64    0.63    0.65    0.02    \n",
            "Test time         4.42    4.48    4.57    4.51    4.52    4.50    0.05    \n"
          ],
          "name": "stdout"
        }
      ]
    },
    {
      "cell_type": "markdown",
      "metadata": {
        "id": "SXXt38Ef_8Ll"
      },
      "source": [
        "<h1 style=\"color:red;\">QUESTION 2: COLLABORATIVE FILTERING MODELS</h1>"
      ]
    },
    {
      "cell_type": "markdown",
      "metadata": {
        "id": "QTKmsUPj_8Lm"
      },
      "source": [
        "**Compare the results from the user-user and item-item models. How do they compare to each other? How do they compare to our original \"random\" model? Can you provide any intuition as to why the results came out the way they did?**"
      ]
    },
    {
      "cell_type": "markdown",
      "metadata": {
        "id": "ea-NRedO_8Ln"
      },
      "source": [
        "The results between the user-user and item-item models are fairly similar (mean of ~0.97 RMSE each), which is an improvement from the random model (mean of ~1.52) as expected. We can start to notice patterns in the user and item models. Probably the main reason the RMSEs are fairly similar is that in the movie ratings scenario types of users tend to rate movies very similary, and an item (or movie) that was rated highly/lowly implies that another movie of the similar genre will be rated highly/lowly as well. It's effective to find patterns either from the user perspective or from the items alone. For example, if user A and user B both are into adventure movies they will rate adventure movies highly. If an adventure movie is rated highly, this might imply than an adjacent movie genre might also be rated highly as well. "
      ]
    },
    {
      "cell_type": "markdown",
      "metadata": {
        "id": "IjyKYSVw_8Lo"
      },
      "source": [
        "# Model 4: Matrix Factorization"
      ]
    },
    {
      "cell_type": "code",
      "metadata": {
        "trusted": true,
        "id": "WUfEaoC2_8Lo"
      },
      "source": [
        "# Create model using SVD() class\n",
        "modelMatrix = SVD()"
      ],
      "execution_count": null,
      "outputs": []
    },
    {
      "cell_type": "code",
      "metadata": {
        "trusted": true,
        "id": "bnIhxvky_8Lr",
        "colab": {
          "base_uri": "https://localhost:8080/",
          "height": 119
        },
        "outputId": "9444bfd6-e648-4015-c869-45f013664b95"
      },
      "source": [
        "# Train using same cross validation code as above\n",
        "crossValidationMatrix = cross_validate(modelMatrix,movieLensData,cv=5,measures=['RMSE'], verbose=True)"
      ],
      "execution_count": null,
      "outputs": [
        {
          "output_type": "stream",
          "text": [
            "Evaluating RMSE of algorithm SVD on 5 split(s).\n",
            "\n",
            "                  Fold 1  Fold 2  Fold 3  Fold 4  Fold 5  Mean    Std     \n",
            "RMSE (testset)    0.9391  0.9370  0.9377  0.9329  0.9350  0.9363  0.0022  \n",
            "Fit time          5.33    5.36    5.46    5.30    5.57    5.40    0.10    \n",
            "Test time         0.16    0.28    0.16    0.26    0.20    0.21    0.05    \n"
          ],
          "name": "stdout"
        }
      ]
    },
    {
      "cell_type": "markdown",
      "metadata": {
        "id": "Qor4qKxl_8Lu"
      },
      "source": [
        "<h1 style=\"color:red;\">QUESTION 3: MATRIX FACTORIZATION MODEL</h1>"
      ]
    },
    {
      "cell_type": "markdown",
      "metadata": {
        "id": "kfzfsltV_8Lv"
      },
      "source": [
        "**The matrix factorization model is different from the collaborative filtering models. Briefly describe this difference. Also, compare the RMSE again. Does it improve? Can you offer any reasoning as to why that might be?**"
      ]
    },
    {
      "cell_type": "markdown",
      "metadata": {
        "id": "6OfQ6IUK_8Lw"
      },
      "source": [
        "The RMSE definitely improves from ~0.97 to ~0.94. Singular Value Decomposition is a principal component analysis technique that finds patterns in the data set. In the case of user and ratings, SVD will find associations of both user and ratings for each patterns which leads to a better prediction (lower RMSE). "
      ]
    },
    {
      "cell_type": "markdown",
      "metadata": {
        "id": "2wudttop_8Lx"
      },
      "source": [
        "# Precision and Recall @ `k`"
      ]
    },
    {
      "cell_type": "markdown",
      "metadata": {
        "id": "Y7niAn0H_8Lx"
      },
      "source": [
        "We now want to compute the precision and recall for 2 values of `k`: 5 and 10. We have provided some code here to help you do that."
      ]
    },
    {
      "cell_type": "markdown",
      "metadata": {
        "id": "sKL--z6c_8Ly"
      },
      "source": [
        "First, we define a function that takes in some predictions, a value of `k` and a threshold parameter. This code is adapted from [here](http://surprise.readthedocs.io/en/stable/FAQ.html?highlight=precision#how-to-compute-precision-k-and-recall-k)."
      ]
    },
    {
      "cell_type": "code",
      "metadata": {
        "trusted": true,
        "id": "EtIlXtB8_8Ly"
      },
      "source": [
        "def precision_recall_at_k(predictions, k=10, threshold=3.5):\n",
        "    '''Return precision and recall at k metrics for each user.'''\n",
        "\n",
        "    # First map the predictions to each user.\n",
        "    user_est_true = dict()\n",
        "    for uid, _, true_r, est, _ in predictions:\n",
        "        current = user_est_true.get(uid, list())\n",
        "        current.append((est, true_r))\n",
        "        user_est_true[uid] = current\n",
        "\n",
        "    precisions = dict()\n",
        "    recalls = dict()\n",
        "    for uid, user_ratings in user_est_true.items():\n",
        "\n",
        "        # Sort user ratings by estimated value\n",
        "        user_ratings.sort(key=lambda x: x[0], reverse=True)\n",
        "\n",
        "        # Number of relevant items\n",
        "        n_rel = sum((true_r >= threshold) for (_, true_r) in user_ratings)\n",
        "\n",
        "        # Number of recommended items in top k\n",
        "        n_rec_k = sum((est >= threshold) for (est, _) in user_ratings[:k])\n",
        "\n",
        "        # Number of relevant and recommended items in top k\n",
        "        n_rel_and_rec_k = sum(((true_r >= threshold) and (est >= threshold))\n",
        "                              for (est, true_r) in user_ratings[:k])\n",
        "\n",
        "        # Precision@K: Proportion of recommended items that are relevant\n",
        "        precisions[uid] = n_rel_and_rec_k / n_rec_k if n_rec_k != 0 else 1\n",
        "\n",
        "        # Recall@K: Proportion of relevant items that are recommended\n",
        "        recalls[uid] = n_rel_and_rec_k / n_rel if n_rel != 0 else 1\n",
        "\n",
        "    return precisions, recalls"
      ],
      "execution_count": null,
      "outputs": []
    },
    {
      "cell_type": "markdown",
      "metadata": {
        "id": "lN9AiuC0_8L1"
      },
      "source": [
        "Next, we compute the precision and recall at `k` = 5 and 10 for each of our 4 models. We use 5-fold cross validation again to average the results across the entire dataseat.\n",
        "\n",
        "Please note that this will take some time to compute."
      ]
    },
    {
      "cell_type": "markdown",
      "metadata": {
        "id": "yR3fqUt8_8L2"
      },
      "source": [
        "<h1 style=\"color:red;\">QUESTION 4: PRECISION/RECALL</h1>"
      ]
    },
    {
      "cell_type": "markdown",
      "metadata": {
        "id": "Yas4191k_8L3"
      },
      "source": [
        "**Compute the precision and recall, for each of the 4 models, at `k` = 5 and 10. This is 2 x 2 x 4 = 16 numerical values. Do you note anything interesting about these values? Anything differerent from the RMSE values you computed above?**\n",
        "\n",
        "Some code is required for this question."
      ]
    },
    {
      "cell_type": "code",
      "metadata": {
        "trusted": true,
        "id": "nhuFYi10_8L4",
        "colab": {
          "base_uri": "https://localhost:8080/",
          "height": 1000
        },
        "outputId": "c958b567-d6c3-4ed6-ef88-e36a81c82afd"
      },
      "source": [
        "# Use the function above to compute the 16 numerical values requested above\n",
        "# See the test() function to get the predictions input to the function\n",
        "# http://surprise.readthedocs.io/en/stable/algobase.html#surprise.prediction_algorithms.algo_base.AlgoBase.test\n",
        "\n",
        "\n",
        "modelsList = [modelRandom, modelUser, modelItem, modelMatrix]\n",
        "\n",
        "# Create k-fold cross validation object\n",
        "kF = KFold(n_splits=5)\n",
        "\n",
        "for k in [5,10]:\n",
        "    for model in modelsList:\n",
        "        print(f'>>> k={k}, model={model.__class__.__name__}')\n",
        "        p = []\n",
        "        r = []\n",
        "        for trainset, testset in kF.split(movieLensData):\n",
        "            model.fit(trainset)\n",
        "            predictions = model.test(testset, verbose=False)\n",
        "            precisions, recalls = precision_recall_at_k(predictions, k=k, threshold=3.5)\n",
        "            p.append(sum(prec for prec in precisions.values()) / len(precisions))\n",
        "            r.append(sum(rec for rec in recalls.values()) / len(recalls))\n",
        "        \n",
        "        print('>>> precision:', round(sum(p) / len(p), 3))\n",
        "        print('>>> reccall  :', round(sum(r) / len(r), 3))\n",
        "        print('\\n')\n"
      ],
      "execution_count": null,
      "outputs": [
        {
          "output_type": "stream",
          "text": [
            ">>> k=5, model=NormalPredictor\n",
            ">>> precision: 0.585\n",
            ">>> reccall  : 0.342\n",
            "\n",
            "\n",
            ">>> k=5, model=KNNBasic\n",
            "Computing the msd similarity matrix...\n",
            "Done computing similarity matrix.\n",
            "Computing the msd similarity matrix...\n",
            "Done computing similarity matrix.\n",
            "Computing the msd similarity matrix...\n",
            "Done computing similarity matrix.\n",
            "Computing the msd similarity matrix...\n",
            "Done computing similarity matrix.\n",
            "Computing the msd similarity matrix...\n",
            "Done computing similarity matrix.\n",
            ">>> precision: 0.763\n",
            ">>> reccall  : 0.456\n",
            "\n",
            "\n",
            ">>> k=5, model=KNNBasic\n",
            "Computing the msd similarity matrix...\n",
            "Done computing similarity matrix.\n",
            "Computing the msd similarity matrix...\n",
            "Done computing similarity matrix.\n",
            "Computing the msd similarity matrix...\n",
            "Done computing similarity matrix.\n",
            "Computing the msd similarity matrix...\n",
            "Done computing similarity matrix.\n",
            "Computing the msd similarity matrix...\n",
            "Done computing similarity matrix.\n",
            ">>> precision: 0.814\n",
            ">>> reccall  : 0.389\n",
            "\n",
            "\n",
            ">>> k=5, model=SVD\n",
            ">>> precision: 0.782\n",
            ">>> reccall  : 0.432\n",
            "\n",
            "\n",
            ">>> k=10, model=NormalPredictor\n",
            ">>> precision: 0.587\n",
            ">>> reccall  : 0.434\n",
            "\n",
            "\n",
            ">>> k=10, model=KNNBasic\n",
            "Computing the msd similarity matrix...\n",
            "Done computing similarity matrix.\n",
            "Computing the msd similarity matrix...\n",
            "Done computing similarity matrix.\n",
            "Computing the msd similarity matrix...\n",
            "Done computing similarity matrix.\n",
            "Computing the msd similarity matrix...\n",
            "Done computing similarity matrix.\n",
            "Computing the msd similarity matrix...\n",
            "Done computing similarity matrix.\n",
            ">>> precision: 0.738\n",
            ">>> reccall  : 0.593\n",
            "\n",
            "\n",
            ">>> k=10, model=KNNBasic\n",
            "Computing the msd similarity matrix...\n",
            "Done computing similarity matrix.\n",
            "Computing the msd similarity matrix...\n",
            "Done computing similarity matrix.\n",
            "Computing the msd similarity matrix...\n",
            "Done computing similarity matrix.\n",
            "Computing the msd similarity matrix...\n",
            "Done computing similarity matrix.\n",
            "Computing the msd similarity matrix...\n",
            "Done computing similarity matrix.\n",
            ">>> precision: 0.79\n",
            ">>> reccall  : 0.536\n",
            "\n",
            "\n",
            ">>> k=10, model=SVD\n",
            ">>> precision: 0.756\n",
            ">>> reccall  : 0.563\n",
            "\n",
            "\n"
          ],
          "name": "stdout"
        }
      ]
    },
    {
      "cell_type": "markdown",
      "metadata": {
        "id": "chgP4qUg_8L6"
      },
      "source": [
        "k=5, model=NormalPredictor (Random)\n",
        "precision: 0.585\n",
        "reccall  : 0.342\n",
        "\n",
        "k=5, model=KNNBasic (User)\n",
        "precision: 0.763\n",
        "reccall  : 0.456\n",
        "\n",
        "k=5, model=KNNBasic (Item)\n",
        "precision: 0.814\n",
        "reccall  : 0.389\n",
        "\n",
        "k=5, model=SVD\n",
        "precision: 0.782\n",
        "reccall  : 0.432\n",
        "\n",
        "k=10, model=NormalPredictor (Random)\n",
        "precision: 0.587\n",
        "reccall  : 0.434\n",
        "\n",
        "k=10, model=KNNBasic (User)\n",
        "precision: 0.738\n",
        "reccall  : 0.593\n",
        "\n",
        "k=10, model=KNNBasic (Item)\n",
        "precision: 0.79\n",
        "reccall  : 0.536\n",
        "\n",
        "k=10, model=SVD\n",
        "precision: 0.756\n",
        "reccall  : 0.563\n",
        "\n",
        "The most precise model is the Items-based. The lowest recall model is the Random. The best (lowest) RMSE is the SVD. This result is very interesting. Basically the way to interpret this is that the Items-based model will predict the right recommendation more accurately, however, when the prediction is wrong actually the recommendation error will be larger than with the SVD model.  "
      ]
    },
    {
      "cell_type": "markdown",
      "metadata": {
        "id": "LONTEgSe_8L6"
      },
      "source": [
        "#  Top-`n` Predictions"
      ]
    },
    {
      "cell_type": "markdown",
      "metadata": {
        "id": "XEdBo1Dv_8L7"
      },
      "source": [
        "Finally, we can see what some of the actual movie ratings are for particular users, as outputs of our model."
      ]
    },
    {
      "cell_type": "markdown",
      "metadata": {
        "id": "FARMGKkT_8L7"
      },
      "source": [
        "Again, we define a helpful function."
      ]
    },
    {
      "cell_type": "code",
      "metadata": {
        "trusted": true,
        "id": "OnTmq-um_8L8"
      },
      "source": [
        "def get_top_n(predictions, n=5):\n",
        "    '''Return the top-N recommendation for each user from a set of predictions.\n",
        "\n",
        "    Args:\n",
        "        predictions(list of Prediction objects): The list of predictions, as\n",
        "            returned by the test method of an algorithm.\n",
        "        n(int): The number of recommendation to output for each user. Default\n",
        "            is 10.\n",
        "\n",
        "    Returns:\n",
        "    A dict where keys are user (raw) ids and values are lists of tuples:\n",
        "        [(raw item id, rating estimation), ...] of size n.\n",
        "    '''\n",
        "\n",
        "    # First map the predictions to each user.\n",
        "    top_n = dict()\n",
        "    for uid, iid, true_r, est, _ in predictions:\n",
        "        current = top_n.get(uid, [])\n",
        "        current.append((iid, est))\n",
        "        top_n[uid] = current\n",
        "\n",
        "    # Then sort the predictions for each user and retrieve the k highest ones.\n",
        "    for uid, user_ratings in top_n.items():\n",
        "        user_ratings.sort(key=lambda x: x[1], reverse=True)\n",
        "        top_n[uid] = user_ratings[:n]\n",
        "\n",
        "    return top_n"
      ],
      "execution_count": null,
      "outputs": []
    },
    {
      "cell_type": "markdown",
      "metadata": {
        "id": "9Pg8Owbr_8L-"
      },
      "source": [
        "Then, we call this function on each of our models, first training on **all** the data we have available, then predicting on the remaining, missing data. We use `n`=5 here, but you can pick any reasonable value of `n` you would like.\n",
        "\n",
        "This may take some time to compute, so be patient."
      ]
    },
    {
      "cell_type": "markdown",
      "metadata": {
        "id": "ypwvvT-v_8L_"
      },
      "source": [
        "Hint: Use [`**Dataset.build_full_trainset**`](http://surprise.readthedocs.io/en/stable/dataset.html#surprise.dataset.DatasetAutoFolds.build_full_trainset) to get the full trainset from the data. Then call [`**Trainset.build_anti_testset**`](http://surprise.readthedocs.io/en/stable/trainset.html#surprise.Trainset.build_anti_testset) to get the testset out. Finally, `fit` on the trainset, `test` on the testset, then pass that result to our `get_top_n` function."
      ]
    },
    {
      "cell_type": "markdown",
      "metadata": {
        "id": "ZV0F4C1M_8MA"
      },
      "source": [
        "<h1 style=\"color:red;\">QUESTION 5: TOP N PREDICTIONS</h1>"
      ]
    },
    {
      "cell_type": "markdown",
      "metadata": {
        "id": "CQ2hc7Lo_8MA"
      },
      "source": [
        "**Do the top n predictions that you received make sense? What is the rating value (1-5) of these predictions? How could you use these predictions in the real-world if you were trying to build a generic content recommender system for a company?**\n",
        "\n",
        "Some code is required for this question."
      ]
    },
    {
      "cell_type": "code",
      "metadata": {
        "trusted": true,
        "id": "8Kr_IgzR_8MB",
        "colab": {
          "base_uri": "https://localhost:8080/",
          "height": 309
        },
        "outputId": "1dade811-9c8e-43e6-8e7d-74e72eaa63f5"
      },
      "source": [
        "# Use the function and hints above to give the top-n predictions for a given user, for a reasonable value of n\n",
        "\n",
        "modelNames = ['modelRandom', 'modelUser', 'modelItem', 'modelMatrix']\n",
        "\n",
        "for i, model in enumerate(modelsList):\n",
        "    model.fit(trainset)\n",
        "    predictions = model.test(testset)\n",
        "    top_n = get_top_n(predictions, n=5)\n",
        "\n",
        "    # Print first user\n",
        "\n",
        "    user = list(top_n.keys())[0]\n",
        "    print(f'model name: {modelNames[i]}')\n",
        "    print(f'user ID: {user}')\n",
        "    print(f'top 5 movie ID\\'s this user would like, sorted by rating highest to lowest: {top_n[user]}')\n"
      ],
      "execution_count": null,
      "outputs": [
        {
          "output_type": "stream",
          "text": [
            "model name: modelRandom\n",
            "user ID: 156\n",
            "top 5 movie ID's this user would like, sorted by rating highest to lowest: [('346', 3.821265700446441), ('22', 3.2352692826180225), ('806', 2.8994889994066133), ('357', 2.472907492945658), ('83', 1.7106305809634674)]\n",
            "Computing the msd similarity matrix...\n",
            "Done computing similarity matrix.\n",
            "model name: modelUser\n",
            "user ID: 156\n",
            "top 5 movie ID's this user would like, sorted by rating highest to lowest: [('357', 4.2447355917857825), ('83', 4.1108848373577676), ('22', 4.042955588253901), ('346', 3.760495576991355), ('806', 3.5259080736503865)]\n",
            "Computing the msd similarity matrix...\n",
            "Done computing similarity matrix.\n",
            "model name: modelItem\n",
            "user ID: 156\n",
            "top 5 movie ID's this user would like, sorted by rating highest to lowest: [('346', 3.8959812346974476), ('357', 3.875498051633564), ('83', 3.842546992346988), ('806', 3.825924321086907), ('22', 3.8159166927057884)]\n",
            "model name: modelMatrix\n",
            "user ID: 156\n",
            "top 5 movie ID's this user would like, sorted by rating highest to lowest: [('22', 4.198179285498423), ('357', 4.052867378258444), ('83', 3.8886768668725322), ('346', 3.35018975129991), ('806', 3.331985759376144)]\n"
          ],
          "name": "stdout"
        }
      ]
    },
    {
      "cell_type": "markdown",
      "metadata": {
        "id": "ZgM2zD8C_8MD"
      },
      "source": [
        "It does make sense since the top 5 movie-ID predictions for each of the models are the same for user-ID 156, which consist of the following movie-IDs: 33,246,806,83 and 357. Regardless of the rating assigned, which varies per model, we can come up with a list of \"Recommended for You\" movies for user-ID 156. The rating value of these predictions range from 1.71 (lowest rating given by the Random Model) to 4.24 (highest rating given by User-User model). The way I would use these predictions is by first defining a \"recommendation\" threshold, say the user's mean/average of ratings up to that point or some arbitatry threhsold like 3.8. If a predicted rating for a movie is > 3.8 (or above the threshold defined), then I would list it as \"Recommended for You\"."
      ]
    },
    {
      "cell_type": "markdown",
      "metadata": {
        "id": "nRXmjUSk_8ME"
      },
      "source": [
        "<hr>"
      ]
    },
    {
      "cell_type": "markdown",
      "metadata": {
        "id": "t-80HdHB_8ME"
      },
      "source": [
        "Great job! Now, make sure you check out the **Conclusion** section of the [instruction manual](https://courses.xpro.mit.edu/asset-v1:xPRO+DSx+R14+type@asset+block/4.1_instruction_manual_14.html) to wrap up this case study properly."
      ]
    }
  ]
}